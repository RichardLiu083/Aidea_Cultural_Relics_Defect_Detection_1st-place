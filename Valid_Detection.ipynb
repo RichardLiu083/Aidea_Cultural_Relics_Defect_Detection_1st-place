{
 "cells": [
  {
   "cell_type": "code",
   "execution_count": null,
   "metadata": {},
   "outputs": [],
   "source": [
    "import os\n",
    "import cv2\n",
    "import numpy as np\n",
    "from tqdm import tqdm\n",
    "import random\n",
    "import warnings\n",
    "warnings.filterwarnings(\"ignore\")\n",
    "\n",
    "from Faster_RCNN.Train import Train_Faster_RCNN\n",
    "from Faster_RCNN.Test import Test_Faster_RCNN\n",
    "from Faster_RCNN.Valid import Valid_Faster_RCNN\n",
    "from Faster_RCNN.Toolbox import check_dataset\n",
    "\n",
    "seed= 1\n",
    "random.seed(seed)\n",
    "np.random.seed(seed)"
   ]
  },
  {
   "cell_type": "markdown",
   "metadata": {},
   "source": [
    "# Prepare Data"
   ]
  },
  {
   "cell_type": "code",
   "execution_count": null,
   "metadata": {
    "scrolled": true
   },
   "outputs": [],
   "source": [
    "import json\n",
    "\n",
    "all_dataset= []\n",
    "\n",
    "with open('./Data/train_1.json', 'r', encoding=\"utf-8\") as f:\n",
    "    label= json.load(f)  \n",
    "for i in tqdm(range(len(label['images']))):\n",
    "    data= {}\n",
    "    data['image_path']= './Data/train_img_1/' + label['images'][i]['file_name']\n",
    "    data['bbox']= []\n",
    "    data['label']= []\n",
    "    id= label['images'][i]['id']\n",
    "    \n",
    "    for j in range(len(label['annotations'])):\n",
    "        if id==label['annotations'][j]['image_id']:\n",
    "            box= label['annotations'][j]['bbox']\n",
    "            box[2]+= box[0]\n",
    "            box[3]+= box[1]\n",
    "            data['bbox'].append(box)\n",
    "            data['label'].append(label['annotations'][j]['category_id'])\n",
    "    all_dataset.append(data)\n",
    "    \n",
    "# with open('./Data/train_2.json', 'r', encoding=\"utf-8\") as f:\n",
    "#     label= json.load(f)  \n",
    "# for i in tqdm(range(len(label['images']))):\n",
    "#     data= {}\n",
    "#     data['image_path']= './Data/train_img_2/' + label['images'][i]['file_name']\n",
    "#     data['bbox']= []\n",
    "#     data['label']= []\n",
    "#     id= label['images'][i]['id']\n",
    "    \n",
    "#     for j in range(len(label['annotations'])):\n",
    "#         if id==label['annotations'][j]['image_id']:\n",
    "#             box= label['annotations'][j]['bbox']\n",
    "#             box[2]+= box[0]\n",
    "#             box[3]+= box[1]\n",
    "#             data['bbox'].append(box)\n",
    "#             data['label'].append(label['annotations'][j]['category_id'])\n",
    "#     all_dataset.append(data)\n",
    "    \n",
    "            \n",
    "all_dataset= check_dataset(all_dataset[:])\n",
    "all_dataset[:3]"
   ]
  },
  {
   "cell_type": "markdown",
   "metadata": {},
   "source": [
    "# 過濾標籤類別"
   ]
  },
  {
   "cell_type": "code",
   "execution_count": null,
   "metadata": {},
   "outputs": [],
   "source": [
    "keep_classes= [1,2,3,4,5]\n",
    "\n",
    "drop_sample= []\n",
    "for i, data in enumerate(tqdm(all_dataset)):\n",
    "    \n",
    "    bbox= data['bbox']\n",
    "    label= data['label']\n",
    "    \n",
    "    drop_indx= []\n",
    "    for j in range(len(label)):\n",
    "        if label[j] not in keep_classes:\n",
    "            drop_indx.append(j)\n",
    "            \n",
    "    data['bbox']= np.delete(bbox, drop_indx, axis= 0)\n",
    "    data['label']= np.delete(label, drop_indx, axis= 0)\n",
    "    \n",
    "    if len(data['bbox'])==0: drop_sample.append(i)\n",
    "\n",
    "all_dataset= np.delete(all_dataset, drop_sample, axis= 0)\n",
    "\n",
    "print('drop empty sample: {}'.format(len(drop_sample)))"
   ]
  },
  {
   "cell_type": "markdown",
   "metadata": {},
   "source": [
    "# 將具有大量bbox的資料移至validation"
   ]
  },
  {
   "cell_type": "code",
   "execution_count": null,
   "metadata": {
    "scrolled": true
   },
   "outputs": [],
   "source": [
    "import matplotlib.pyplot as plt\n",
    "\n",
    "drop_indx= []\n",
    "for i, data in enumerate(tqdm(all_dataset)):\n",
    "    \n",
    "    #img= cv2.imread(data['image_path'])\n",
    "    bbox= data['bbox']\n",
    "    bbox= np.array(bbox).astype(np.int)\n",
    "\n",
    "    if len(bbox)>100:\n",
    "        drop_indx.append(i)\n",
    "        continue\n",
    "        print(len(bbox))\n",
    "        for box in bbox:\n",
    "            cv2.rectangle(img,\n",
    "                          (box[0], box[1]),\n",
    "                          (box[2], box[3]),\n",
    "                          (255, 0, 0), 10)\n",
    "        plt.imshow(img)\n",
    "        plt.show()\n",
    "\n",
    "vali_dataset= np.array(all_dataset)[drop_indx]\n",
    "train_dataset= np.delete(all_dataset, drop_indx, axis= 0)\n",
    "print('move {} sample to validation'.format(len(drop_indx)))"
   ]
  },
  {
   "cell_type": "markdown",
   "metadata": {},
   "source": [
    "# Valid"
   ]
  },
  {
   "cell_type": "code",
   "execution_count": null,
   "metadata": {
    "scrolled": true
   },
   "outputs": [],
   "source": [
    "import torch\n",
    "\n",
    "Valid_CFG= {\n",
    "    'img_size': None,    # None為使用原始解析度\n",
    "    'confidence': 0.001,\n",
    "    'NMS_threshold': 0.5,\n",
    "    'load_model': 'train_cv_model/faster_rcnn_best.pth',\n",
    "    'device': 'gpu:1',\n",
    "}\n",
    "\n",
    "valid_IOU, valid_class_IOU, MAP, AP_class= Valid_Faster_RCNN(\n",
    "                                                    dataset= train_dataset[:],\n",
    "                                                    CFG= Valid_CFG,\n",
    "                                                )"
   ]
  },
  {
   "cell_type": "markdown",
   "metadata": {},
   "source": [
    "# Test"
   ]
  },
  {
   "cell_type": "code",
   "execution_count": null,
   "metadata": {},
   "outputs": [],
   "source": [
    "Test_CFG= {\n",
    "    'img_size': None, # None為使用原始解析度\n",
    "    'confidence': 0.001,\n",
    "    'NMS_threshold': 0.5,\n",
    "    'load_model': 'test_cv_model/resnet152_1536_0.399/faster_rcnn_best.pth',\n",
    "    'show_img': False,\n",
    "    'show_score': False,\n",
    "    'show_classes': False,\n",
    "    'save_img_path': False, #'test/predict', # False則不儲存結果圖片\n",
    "    'device': 'gpu:0',\n",
    "}\n",
    "\n",
    "result= Test_Faster_RCNN(\n",
    "            dataset= train_dataset,\n",
    "            CFG= Test_CFG,\n",
    "        )"
   ]
  },
  {
   "cell_type": "code",
   "execution_count": null,
   "metadata": {},
   "outputs": [],
   "source": [
    "import matplotlib.pyplot as plt\n",
    "\n",
    "color= [\n",
    "    (255, 0, 0), #紅\n",
    "    (0, 255, 0), #綠\n",
    "    (0, 0, 255), #藍\n",
    "    (255, 97, 0), #澄\n",
    "    (255, 0, 255), #紫\n",
    "]\n",
    "\n",
    "drop_name= []\n",
    "for i in range(len(all_map)):\n",
    "\n",
    "    if all_map[i] > 0.4: continue\n",
    "    \n",
    "    for data in tqdm(train_dataset[i:i+1]):\n",
    "\n",
    "        name= data['image_path']\n",
    "        drop_name.append(name)\n",
    "        img= cv2.imread(name)\n",
    "        img= cv2.cvtColor(img, cv2.COLOR_BGR2RGB)\n",
    "        label= data['label']\n",
    "        bbox= data['bbox']\n",
    "        bbox= np.array(bbox).astype(np.int)\n",
    "\n",
    "        for k, box in enumerate(bbox):\n",
    "            cv2.rectangle(img,\n",
    "                          (box[0], box[1]),\n",
    "                          (box[2], box[3]),\n",
    "                          color[label[k]-1], 10)\n",
    "\n",
    "        plt.title('true label')\n",
    "        plt.imshow(img)\n",
    "        plt.show()\n",
    "\n",
    "    for data in tqdm(result[i:i+1]):\n",
    "\n",
    "        name= data['img_name']\n",
    "        print('map:', all_map[i])\n",
    "        img= cv2.imread(name)\n",
    "        img= cv2.cvtColor(img, cv2.COLOR_BGR2RGB)\n",
    "        label= data['label']\n",
    "        bbox= data['bbox']\n",
    "        bbox= np.array(bbox).astype(np.int)\n",
    "        score= data['score']\n",
    "\n",
    "        for k, box in enumerate(bbox):\n",
    "            if score[k]>=0.001:\n",
    "                cv2.rectangle(img,\n",
    "                              (box[0], box[1]),\n",
    "                              (box[2], box[3]),\n",
    "                              color[label[k]-1], 10)\n",
    "\n",
    "        plt.title('predict')\n",
    "        plt.imshow(img)\n",
    "        plt.show()"
   ]
  }
 ],
 "metadata": {
  "kernelspec": {
   "display_name": "Python 3",
   "language": "python",
   "name": "python3"
  },
  "language_info": {
   "codemirror_mode": {
    "name": "ipython",
    "version": 3
   },
   "file_extension": ".py",
   "mimetype": "text/x-python",
   "name": "python",
   "nbconvert_exporter": "python",
   "pygments_lexer": "ipython3",
   "version": "3.7.4"
  }
 },
 "nbformat": 4,
 "nbformat_minor": 2
}
