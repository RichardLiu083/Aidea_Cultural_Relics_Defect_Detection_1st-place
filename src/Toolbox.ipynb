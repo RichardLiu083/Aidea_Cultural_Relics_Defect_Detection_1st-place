{
 "cells": [
  {
   "cell_type": "code",
   "execution_count": 1,
   "id": "e7543bd0",
   "metadata": {},
   "outputs": [],
   "source": [
    "import cv2\n",
    "import matplotlib.pyplot as plt\n",
    "from tqdm import tqdm\n",
    "import numpy as np\n",
    "import os"
   ]
  },
  {
   "cell_type": "markdown",
   "id": "b3891bb6",
   "metadata": {},
   "source": [
    "# save img with classes box"
   ]
  },
  {
   "cell_type": "code",
   "execution_count": 2,
   "id": "ce17f756",
   "metadata": {
    "scrolled": true
   },
   "outputs": [
    {
     "name": "stderr",
     "output_type": "stream",
     "text": [
      "100%|███████████████████████████████████████████████████████████████████████████████| 332/332 [00:01<00:00, 201.06it/s]\n"
     ]
    },
    {
     "data": {
      "text/plain": [
       "[{'image_path': 'Data/train_img/image_00000.jpg',\n",
       "  'bbox': [[3943.0, 2171.0, 4031.0, 2553.0],\n",
       "   [3917.0, 2411.0, 3940.0, 2448.0],\n",
       "   [3811.0, 1260.0, 3842.0, 1291.0],\n",
       "   [3109.0, 901.0, 3164.0, 1015.0],\n",
       "   [1702.0, 2791.0, 2058.0, 2861.0],\n",
       "   [3823.0, 2744.0, 3889.0, 2803.0],\n",
       "   [2929.0, 1054.0, 3113.0, 1300.0],\n",
       "   [1717.0, 2040.0, 1814.0, 2451.0],\n",
       "   [3692.0, 1550.0, 3848.0, 1703.0],\n",
       "   [1052.0, 1050.0, 1138.0, 1194.0],\n",
       "   [2147.0, 913.0, 2280.0, 1062.0],\n",
       "   [1721.0, 1160.0, 1850.0, 1371.0],\n",
       "   [943.0, 2646.0, 1010.0, 2775.0],\n",
       "   [2554.0, 2603.0, 3073.0, 2826.0],\n",
       "   [837.0, 1679.0, 1298.0, 2767.0]],\n",
       "  'label': [1, 1, 1, 1, 1, 1, 3, 3, 3, 3, 3, 3, 3, 3, 5]},\n",
       " {'image_path': 'Data/train_img/image_00001.jpg',\n",
       "  'bbox': [[1921.0, 247.0, 2341.0, 470.0],\n",
       "   [2533.0, 233.0, 2921.0, 433.0],\n",
       "   [3274.0, 245.0, 3383.0, 343.0],\n",
       "   [653.0, 253.0, 849.0, 433.0],\n",
       "   [3156.0, 3311.0, 3719.0, 3487.0],\n",
       "   [3993.0, 3349.0, 4153.0, 3459.0],\n",
       "   [2526.0, 3302.0, 2936.0, 3498.0],\n",
       "   [1881.0, 3274.0, 2487.0, 3483.0],\n",
       "   [1533.0, 3350.0, 1647.0, 3471.0],\n",
       "   [3968.0, 271.0, 4136.0, 408.0],\n",
       "   [3775.0, 260.0, 3802.0, 318.0],\n",
       "   [770.0, 2179.0, 848.0, 2318.0],\n",
       "   [611.0, 2116.0, 649.0, 2383.0],\n",
       "   [617.0, 2411.0, 843.0, 2686.0],\n",
       "   [714.0, 2023.0, 747.0, 2065.0],\n",
       "   [646.0, 1812.0, 734.0, 1844.0],\n",
       "   [3951.0, 2174.0, 4032.0, 2450.0],\n",
       "   [2403.0, 260.0, 2491.0, 715.0],\n",
       "   [1350.0, 3375.0, 1461.0, 3474.0],\n",
       "   [1202.0, 3339.0, 1299.0, 3436.0],\n",
       "   [1921.0, 2673.0, 2902.0, 3487.0]],\n",
       "  'label': [1, 1, 1, 1, 1, 1, 1, 1, 1, 1, 1, 1, 1, 1, 1, 1, 1, 1, 1, 1, 5]},\n",
       " {'image_path': 'Data/train_img/image_00002.jpg',\n",
       "  'bbox': [[1435.0, 495.0, 1541.0, 613.0],\n",
       "   [1697.0, 3311.0, 3521.0, 3479.0],\n",
       "   [1548.0, 3322.0, 1607.0, 3354.0],\n",
       "   [812.0, 2670.0, 959.0, 3356.0],\n",
       "   [3149.0, 256.0, 4052.0, 483.0],\n",
       "   [1842.0, 252.0, 3070.0, 443.0],\n",
       "   [754.0, 271.0, 1779.0, 483.0],\n",
       "   [2053.0, 1380.0, 2088.0, 1443.0],\n",
       "   [2149.0, 1558.0, 2203.0, 1621.0],\n",
       "   [2275.0, 1327.0, 2416.0, 1454.0],\n",
       "   [775.0, 2295.0, 1140.0, 2668.0],\n",
       "   [920.0, 3321.0, 1105.0, 3451.0],\n",
       "   [641.0, 3078.0, 753.0, 3438.0]],\n",
       "  'label': [1, 1, 1, 1, 1, 1, 1, 1, 1, 1, 1, 5, 5]}]"
      ]
     },
     "execution_count": 2,
     "metadata": {},
     "output_type": "execute_result"
    }
   ],
   "source": [
    "import json\n",
    "\n",
    "with open('Data/train.json', 'r', encoding=\"utf-8\") as f:\n",
    "    label= json.load(f)\n",
    "    \n",
    "all_dataset= []\n",
    "for i in tqdm(range(len(label['images']))):\n",
    "    data= {}\n",
    "    data['image_path']= 'Data/train_img/' + label['images'][i]['file_name']\n",
    "    data['bbox']= []\n",
    "    data['label']= []\n",
    "    id= label['images'][i]['id']\n",
    "    \n",
    "    for j in range(len(label['annotations'])):\n",
    "        if id==label['annotations'][j]['image_id']:\n",
    "            box= label['annotations'][j]['bbox']\n",
    "            box[2]+= box[0]\n",
    "            box[3]+= box[1]\n",
    "            data['bbox'].append(box)\n",
    "            data['label'].append(label['annotations'][j]['category_id'])\n",
    "    \n",
    "    all_dataset.append(data)\n",
    "            \n",
    "all_dataset[:3]"
   ]
  },
  {
   "cell_type": "code",
   "execution_count": 19,
   "id": "dd35bdde",
   "metadata": {},
   "outputs": [
    {
     "name": "stderr",
     "output_type": "stream",
     "text": [
      "100%|████████████████████████████████████████████████████████████████████████████████| 332/332 [03:32<00:00,  1.56it/s]\n"
     ]
    }
   ],
   "source": [
    "color= [\n",
    "    (0, 0, 255), #紅\n",
    "    (0, 255, 0), #綠\n",
    "    (255, 0, 0), #藍\n",
    "    (0, 97, 255), #澄\n",
    "    (255, 0, 255), #紫\n",
    "]\n",
    "\n",
    "for data in tqdm(all_dataset[:]):\n",
    "    \n",
    "    name= data['image_path']\n",
    "    img= cv2.imread(name)\n",
    "    label= data['label']\n",
    "    bbox= data['bbox']\n",
    "    bbox= np.array(bbox).astype(np.int)\n",
    "\n",
    "    for i, box in enumerate(bbox):\n",
    "        cv2.rectangle(img,\n",
    "                      (box[0], box[1]),\n",
    "                      (box[2], box[3]),\n",
    "                      color[label[i]-1], 5)\n",
    "    \n",
    "    cv2.imwrite(name.replace('train_img', 'train_img_with_label'), img)"
   ]
  },
  {
   "cell_type": "markdown",
   "id": "853924ce",
   "metadata": {},
   "source": [
    "# crop defect by clsses box"
   ]
  },
  {
   "cell_type": "code",
   "execution_count": 5,
   "id": "4fc912ac",
   "metadata": {},
   "outputs": [
    {
     "name": "stderr",
     "output_type": "stream",
     "text": [
      " 46%|████████████████████████████████████▊                                           | 153/332 [00:51<01:09,  2.57it/s]"
     ]
    },
    {
     "name": "stdout",
     "output_type": "stream",
     "text": [
      "empty img\n"
     ]
    },
    {
     "name": "stderr",
     "output_type": "stream",
     "text": [
      "\r",
      " 46%|█████████████████████████████████████                                           | 154/332 [00:52<01:26,  2.05it/s]"
     ]
    },
    {
     "name": "stdout",
     "output_type": "stream",
     "text": [
      "empty img\n",
      "empty img\n",
      "empty img\n",
      "empty img\n",
      "empty img\n",
      "empty img\n"
     ]
    },
    {
     "name": "stderr",
     "output_type": "stream",
     "text": [
      " 70%|████████████████████████████████████████████████████████▍                       | 234/332 [01:21<00:38,  2.54it/s]"
     ]
    },
    {
     "name": "stdout",
     "output_type": "stream",
     "text": [
      "empty img\n"
     ]
    },
    {
     "name": "stderr",
     "output_type": "stream",
     "text": [
      " 72%|█████████████████████████████████████████████████████████▎                      | 238/332 [01:23<00:41,  2.24it/s]"
     ]
    },
    {
     "name": "stdout",
     "output_type": "stream",
     "text": [
      "empty img\n",
      "empty img\n"
     ]
    },
    {
     "name": "stderr",
     "output_type": "stream",
     "text": [
      "\r",
      " 72%|█████████████████████████████████████████████████████████▌                      | 239/332 [01:24<00:41,  2.23it/s]"
     ]
    },
    {
     "name": "stdout",
     "output_type": "stream",
     "text": [
      "empty img\n"
     ]
    },
    {
     "name": "stderr",
     "output_type": "stream",
     "text": [
      " 74%|███████████████████████████████████████████████████████████▌                    | 247/332 [01:27<00:31,  2.70it/s]"
     ]
    },
    {
     "name": "stdout",
     "output_type": "stream",
     "text": [
      "empty img\n"
     ]
    },
    {
     "name": "stderr",
     "output_type": "stream",
     "text": [
      " 77%|█████████████████████████████████████████████████████████████▍                  | 255/332 [01:29<00:23,  3.31it/s]"
     ]
    },
    {
     "name": "stdout",
     "output_type": "stream",
     "text": [
      "empty img\n",
      "empty img\n"
     ]
    },
    {
     "name": "stderr",
     "output_type": "stream",
     "text": [
      "100%|████████████████████████████████████████████████████████████████████████████████| 332/332 [01:54<00:00,  2.89it/s]\n"
     ]
    }
   ],
   "source": [
    "count= 0\n",
    "for data in tqdm(all_dataset[:]):\n",
    "    \n",
    "    name= data['image_path']\n",
    "    img= cv2.imread(name)\n",
    "    label= data['label']\n",
    "    bbox= data['bbox']\n",
    "    bbox= np.array(bbox).astype(np.int)\n",
    "\n",
    "    for i, box in enumerate(bbox):\n",
    "        crop_img= img[ box[1]:box[3], box[0]:box[2], : ]\n",
    "        try:\n",
    "            cv2.imwrite('Data/crop_defect/{}/{}.jpg'.format(label[i], count), crop_img)\n",
    "            count+= 1\n",
    "        except:\n",
    "            print('empty img')"
   ]
  }
 ],
 "metadata": {
  "kernelspec": {
   "display_name": "Python 3",
   "language": "python",
   "name": "python3"
  },
  "language_info": {
   "codemirror_mode": {
    "name": "ipython",
    "version": 3
   },
   "file_extension": ".py",
   "mimetype": "text/x-python",
   "name": "python",
   "nbconvert_exporter": "python",
   "pygments_lexer": "ipython3",
   "version": "3.6.9"
  }
 },
 "nbformat": 4,
 "nbformat_minor": 5
}
