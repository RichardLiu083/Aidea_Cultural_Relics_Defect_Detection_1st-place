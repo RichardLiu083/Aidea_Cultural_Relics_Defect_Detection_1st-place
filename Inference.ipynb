{
 "cells": [
  {
   "cell_type": "code",
   "execution_count": 1,
   "metadata": {},
   "outputs": [
    {
     "name": "stdout",
     "output_type": "stream",
     "text": [
      "Couldn't import fast version of function compute_overlap, will use slow one. Check cython intallation\n"
     ]
    }
   ],
   "source": [
    "import os\n",
    "import cv2\n",
    "import numpy as np\n",
    "from tqdm import tqdm\n",
    "import random\n",
    "import warnings\n",
    "warnings.filterwarnings(\"ignore\")\n",
    "\n",
    "from Faster_RCNN.Test import Test_Faster_RCNN"
   ]
  },
  {
   "cell_type": "code",
   "execution_count": 2,
   "metadata": {
    "scrolled": true
   },
   "outputs": [
    {
     "name": "stderr",
     "output_type": "stream",
     "text": [
      "100%|██████████████████████████████████████████████████████████████████████████████████████████| 56/56 [00:00<?, ?it/s]\n"
     ]
    },
    {
     "data": {
      "text/plain": [
       "[{'image_path': 'Data/test_img/image_00000.jpg'},\n",
       " {'image_path': 'Data/test_img/image_00001.jpg'},\n",
       " {'image_path': 'Data/test_img/image_00002.jpg'},\n",
       " {'image_path': 'Data/test_img/image_00003.jpg'},\n",
       " {'image_path': 'Data/test_img/image_00004.jpg'},\n",
       " {'image_path': 'Data/test_img/image_00005.jpg'},\n",
       " {'image_path': 'Data/test_img/image_00006.jpg'},\n",
       " {'image_path': 'Data/test_img/image_00007.jpg'},\n",
       " {'image_path': 'Data/test_img/image_00008.jpg'},\n",
       " {'image_path': 'Data/test_img/image_00009.jpg'},\n",
       " {'image_path': 'Data/test_img/image_00010.jpg'},\n",
       " {'image_path': 'Data/test_img/image_00011.jpg'},\n",
       " {'image_path': 'Data/test_img/image_00012.jpg'},\n",
       " {'image_path': 'Data/test_img/image_00013.jpg'},\n",
       " {'image_path': 'Data/test_img/image_00014.jpg'},\n",
       " {'image_path': 'Data/test_img/image_00015.jpg'},\n",
       " {'image_path': 'Data/test_img/image_00016.jpg'},\n",
       " {'image_path': 'Data/test_img/image_00017.jpg'},\n",
       " {'image_path': 'Data/test_img/image_00018.jpg'},\n",
       " {'image_path': 'Data/test_img/image_00019.jpg'},\n",
       " {'image_path': 'Data/test_img/image_00020.jpg'},\n",
       " {'image_path': 'Data/test_img/image_00021.jpg'},\n",
       " {'image_path': 'Data/test_img/image_00022.jpg'},\n",
       " {'image_path': 'Data/test_img/image_00023.jpg'},\n",
       " {'image_path': 'Data/test_img/image_00024.jpg'},\n",
       " {'image_path': 'Data/test_img/image_00025.jpg'},\n",
       " {'image_path': 'Data/test_img/image_00026.jpg'},\n",
       " {'image_path': 'Data/test_img/image_00027.jpg'},\n",
       " {'image_path': 'Data/test_img/image_00028.jpg'},\n",
       " {'image_path': 'Data/test_img/image_00029.jpg'},\n",
       " {'image_path': 'Data/test_img/image_00030.jpg'},\n",
       " {'image_path': 'Data/test_img/image_00031.jpg'},\n",
       " {'image_path': 'Data/test_img/image_00032.jpg'},\n",
       " {'image_path': 'Data/test_img/image_00033.jpg'},\n",
       " {'image_path': 'Data/test_img/image_00034.jpg'},\n",
       " {'image_path': 'Data/test_img/image_00035.jpg'},\n",
       " {'image_path': 'Data/test_img/image_00036.jpg'},\n",
       " {'image_path': 'Data/test_img/image_00037.jpg'},\n",
       " {'image_path': 'Data/test_img/image_00038.jpg'},\n",
       " {'image_path': 'Data/test_img/image_00039.jpg'},\n",
       " {'image_path': 'Data/test_img/image_00040.jpg'},\n",
       " {'image_path': 'Data/test_img/image_00041.jpg'},\n",
       " {'image_path': 'Data/test_img/image_00042.jpg'},\n",
       " {'image_path': 'Data/test_img/image_00043.jpg'},\n",
       " {'image_path': 'Data/test_img/image_00044.jpg'},\n",
       " {'image_path': 'Data/test_img/image_00045.jpg'},\n",
       " {'image_path': 'Data/test_img/image_00046.jpg'},\n",
       " {'image_path': 'Data/test_img/image_00047.jpg'},\n",
       " {'image_path': 'Data/test_img/image_00048.jpg'},\n",
       " {'image_path': 'Data/test_img/image_00049.jpg'},\n",
       " {'image_path': 'Data/test_img/image_00050.jpg'},\n",
       " {'image_path': 'Data/test_img/image_00051.jpg'},\n",
       " {'image_path': 'Data/test_img/image_00052.jpg'},\n",
       " {'image_path': 'Data/test_img/image_00053.jpg'},\n",
       " {'image_path': 'Data/test_img/image_00054.jpg'},\n",
       " {'image_path': 'Data/test_img/image_00055.jpg'}]"
      ]
     },
     "execution_count": 2,
     "metadata": {},
     "output_type": "execute_result"
    }
   ],
   "source": [
    "all_img_name= os.listdir('Data/test_img')\n",
    "\n",
    "test_dataset= []\n",
    "for name in tqdm(all_img_name):\n",
    "    data= {}\n",
    "    data['image_path']= 'Data/test_img/'+name\n",
    "    test_dataset.append(data)\n",
    "    \n",
    "test_dataset"
   ]
  },
  {
   "cell_type": "markdown",
   "metadata": {},
   "source": [
    "# Detection"
   ]
  },
  {
   "cell_type": "code",
   "execution_count": 3,
   "metadata": {
    "scrolled": true
   },
   "outputs": [
    {
     "name": "stdout",
     "output_type": "stream",
     "text": [
      "using cuda:1\n"
     ]
    },
    {
     "name": "stderr",
     "output_type": "stream",
     "text": [
      "100%|██████████████████████████████████████████████████████████████████████████████████| 56/56 [00:51<00:00,  1.10it/s]\n",
      "100%|██████████████████████████████████████████████████████████████████████████████████| 56/56 [00:53<00:00,  1.04it/s]\n"
     ]
    },
    {
     "name": "stdout",
     "output_type": "stream",
     "text": [
      "checking dataset\n"
     ]
    },
    {
     "name": "stderr",
     "output_type": "stream",
     "text": [
      "100%|█████████████████████████████████████████████████████████████████████████████████| 56/56 [00:00<00:00, 688.57it/s]\n",
      "100%|██████████████████████████████████████████████████████████████████████████████████| 56/56 [00:50<00:00,  1.11it/s]\n"
     ]
    },
    {
     "name": "stdout",
     "output_type": "stream",
     "text": [
      "checking dataset\n"
     ]
    },
    {
     "name": "stderr",
     "output_type": "stream",
     "text": [
      "100%|████████████████████████████████████████████████████████████████████████████████| 56/56 [00:00<00:00, 1421.81it/s]\n",
      "100%|██████████████████████████████████████████████████████████████████████████████████| 56/56 [00:56<00:00,  1.00s/it]\n"
     ]
    },
    {
     "name": "stdout",
     "output_type": "stream",
     "text": [
      "checking dataset\n"
     ]
    },
    {
     "name": "stderr",
     "output_type": "stream",
     "text": [
      "100%|████████████████████████████████████████████████████████████████████████████████| 56/56 [00:00<00:00, 1521.73it/s]\n",
      "100%|██████████████████████████████████████████████████████████████████████████████████| 56/56 [00:50<00:00,  1.11it/s]\n",
      "100%|██████████████████████████████████████████████████████████████████████████████████| 56/56 [00:56<00:00,  1.01s/it]\n"
     ]
    },
    {
     "name": "stdout",
     "output_type": "stream",
     "text": [
      "checking dataset\n"
     ]
    },
    {
     "name": "stderr",
     "output_type": "stream",
     "text": [
      "100%|████████████████████████████████████████████████████████████████████████████████| 56/56 [00:00<00:00, 1317.87it/s]\n",
      "100%|██████████████████████████████████████████████████████████████████████████████████| 56/56 [00:54<00:00,  1.03it/s]\n"
     ]
    },
    {
     "name": "stdout",
     "output_type": "stream",
     "text": [
      "checking dataset\n"
     ]
    },
    {
     "name": "stderr",
     "output_type": "stream",
     "text": [
      "100%|████████████████████████████████████████████████████████████████████████████████| 56/56 [00:00<00:00, 1466.25it/s]\n",
      "100%|██████████████████████████████████████████████████████████████████████████████████| 56/56 [00:59<00:00,  1.06s/it]\n"
     ]
    },
    {
     "name": "stdout",
     "output_type": "stream",
     "text": [
      "checking dataset\n"
     ]
    },
    {
     "name": "stderr",
     "output_type": "stream",
     "text": [
      "100%|████████████████████████████████████████████████████████████████████████████████| 56/56 [00:00<00:00, 1471.83it/s]\n",
      "100%|██████████████████████████████████████████████████████████████████████████████████| 56/56 [00:51<00:00,  1.08it/s]\n",
      "100%|██████████████████████████████████████████████████████████████████████████████████| 56/56 [00:57<00:00,  1.03s/it]\n"
     ]
    },
    {
     "name": "stdout",
     "output_type": "stream",
     "text": [
      "checking dataset\n"
     ]
    },
    {
     "name": "stderr",
     "output_type": "stream",
     "text": [
      "100%|████████████████████████████████████████████████████████████████████████████████| 56/56 [00:00<00:00, 1421.63it/s]\n",
      "100%|██████████████████████████████████████████████████████████████████████████████████| 56/56 [00:55<00:00,  1.00it/s]\n"
     ]
    },
    {
     "name": "stdout",
     "output_type": "stream",
     "text": [
      "checking dataset\n"
     ]
    },
    {
     "name": "stderr",
     "output_type": "stream",
     "text": [
      "100%|████████████████████████████████████████████████████████████████████████████████| 56/56 [00:00<00:00, 1008.34it/s]\n",
      "100%|██████████████████████████████████████████████████████████████████████████████████| 56/56 [01:01<00:00,  1.10s/it]\n"
     ]
    },
    {
     "name": "stdout",
     "output_type": "stream",
     "text": [
      "checking dataset\n"
     ]
    },
    {
     "name": "stderr",
     "output_type": "stream",
     "text": [
      "100%|████████████████████████████████████████████████████████████████████████████████| 56/56 [00:00<00:00, 1806.03it/s]\n",
      "100%|██████████████████████████████████████████████████████████████████████████████████| 56/56 [00:52<00:00,  1.06it/s]\n",
      "100%|██████████████████████████████████████████████████████████████████████████████████| 56/56 [01:00<00:00,  1.08s/it]\n"
     ]
    },
    {
     "name": "stdout",
     "output_type": "stream",
     "text": [
      "checking dataset\n"
     ]
    },
    {
     "name": "stderr",
     "output_type": "stream",
     "text": [
      "100%|████████████████████████████████████████████████████████████████████████████████| 56/56 [00:00<00:00, 1337.65it/s]\n",
      "100%|██████████████████████████████████████████████████████████████████████████████████| 56/56 [00:57<00:00,  1.02s/it]\n"
     ]
    },
    {
     "name": "stdout",
     "output_type": "stream",
     "text": [
      "checking dataset\n"
     ]
    },
    {
     "name": "stderr",
     "output_type": "stream",
     "text": [
      "100%|████████████████████████████████████████████████████████████████████████████████| 56/56 [00:00<00:00, 1785.83it/s]\n",
      "100%|██████████████████████████████████████████████████████████████████████████████████| 56/56 [01:03<00:00,  1.13s/it]\n"
     ]
    },
    {
     "name": "stdout",
     "output_type": "stream",
     "text": [
      "checking dataset\n"
     ]
    },
    {
     "name": "stderr",
     "output_type": "stream",
     "text": [
      "100%|████████████████████████████████████████████████████████████████████████████████| 56/56 [00:00<00:00, 1388.18it/s]\n",
      "100%|██████████████████████████████████████████████████████████████████████████████████| 56/56 [00:56<00:00,  1.02s/it]\n",
      "100%|██████████████████████████████████████████████████████████████████████████████████| 56/56 [01:04<00:00,  1.15s/it]\n"
     ]
    },
    {
     "name": "stdout",
     "output_type": "stream",
     "text": [
      "checking dataset\n"
     ]
    },
    {
     "name": "stderr",
     "output_type": "stream",
     "text": [
      "100%|████████████████████████████████████████████████████████████████████████████████| 56/56 [00:00<00:00, 1392.73it/s]\n",
      "100%|██████████████████████████████████████████████████████████████████████████████████| 56/56 [01:00<00:00,  1.08s/it]\n"
     ]
    },
    {
     "name": "stdout",
     "output_type": "stream",
     "text": [
      "checking dataset\n"
     ]
    },
    {
     "name": "stderr",
     "output_type": "stream",
     "text": [
      "100%|████████████████████████████████████████████████████████████████████████████████| 56/56 [00:00<00:00, 2330.26it/s]\n",
      "100%|██████████████████████████████████████████████████████████████████████████████████| 56/56 [01:06<00:00,  1.19s/it]\n"
     ]
    },
    {
     "name": "stdout",
     "output_type": "stream",
     "text": [
      "checking dataset\n"
     ]
    },
    {
     "name": "stderr",
     "output_type": "stream",
     "text": [
      "100%|█████████████████████████████████████████████████████████████████████████████████| 56/56 [00:00<00:00, 935.93it/s]\n",
      "100%|███████████████████████████████████████████████████████████████████████████████| 56/56 [00:00<00:00, 10991.67it/s]\n"
     ]
    }
   ],
   "source": [
    "import torch\n",
    "import time\n",
    "import pandas as pd\n",
    "from torchvision.models.detection.transform import GeneralizedRCNNTransform\n",
    "\n",
    "base_img_size= 1792\n",
    "Test_CFG= {\n",
    "    # [1792-128, 1792-64, 1792, 1792+64, 1792+128]\n",
    "    'img_size': [base_img_size-192,\n",
    "                 #base_img_size-128,\n",
    "                 base_img_size-64,\n",
    "                 base_img_size,\n",
    "                 base_img_size+64,\n",
    "                 #base_img_size+128,\n",
    "                 base_img_size+192],\n",
    "    'confidence': 0.001,\n",
    "    'NMS_threshold': 0.6,\n",
    "    'TTA': True,\n",
    "    \n",
    "    'load_model': 'test_cv_model/resnet152_1792_best/faster_rcnn_379.pth',\n",
    "    'show_img': False,\n",
    "    'show_score': False,\n",
    "    'show_classes': False,\n",
    "    'save_img_path': False, #'test/predict', # False則不儲存結果圖片\n",
    "    'device': 'gpu:1',\n",
    "    'class_mapping': False,\n",
    "}\n",
    "\n",
    "\n",
    "\n",
    "result= Test_Faster_RCNN(\n",
    "            dataset= test_dataset[:],\n",
    "            CFG= Test_CFG,\n",
    "        )"
   ]
  },
  {
   "cell_type": "raw",
   "metadata": {},
   "source": [
    "import matplotlib.pyplot as plt\n",
    "\n",
    "color= [\n",
    "    (255, 0, 0), #紅\n",
    "    (0, 255, 0), #綠\n",
    "    (0, 0, 255), #藍\n",
    "    (255, 97, 0), #澄\n",
    "    (255, 0, 255), #紫\n",
    "]\n",
    "\n",
    "for data in tqdm(result[:]):\n",
    "    \n",
    "    name= data['img_name']\n",
    "    img= cv2.imread(name)\n",
    "    name= name.split('/')[-1]\n",
    "    img= cv2.cvtColor(img, cv2.COLOR_BGR2RGB)\n",
    "    label= data['label']\n",
    "    bbox= data['bbox']\n",
    "    bbox= np.array(bbox).astype(np.int)\n",
    "    score= data['score']\n",
    "\n",
    "    for i, box in enumerate(bbox):\n",
    "        if score[i]>=0.3:\n",
    "            cv2.rectangle(img,\n",
    "                          (box[0], box[1]),\n",
    "                          (box[2], box[3]),\n",
    "                          color[label[i]-1], 5)\n",
    "    \n",
    "    plt.imshow(img)\n",
    "    plt.show()\n",
    "    img= cv2.cvtColor(img, cv2.COLOR_RGB2BGR)\n",
    "    #cv2.imwrite(f'predict_img/{name}', img)"
   ]
  },
  {
   "cell_type": "code",
   "execution_count": 4,
   "metadata": {},
   "outputs": [
    {
     "data": {
      "text/html": [
       "<div>\n",
       "<style scoped>\n",
       "    .dataframe tbody tr th:only-of-type {\n",
       "        vertical-align: middle;\n",
       "    }\n",
       "\n",
       "    .dataframe tbody tr th {\n",
       "        vertical-align: top;\n",
       "    }\n",
       "\n",
       "    .dataframe thead th {\n",
       "        text-align: right;\n",
       "    }\n",
       "</style>\n",
       "<table border=\"1\" class=\"dataframe\">\n",
       "  <thead>\n",
       "    <tr style=\"text-align: right;\">\n",
       "      <th></th>\n",
       "      <th>image_filename</th>\n",
       "      <th>label_id</th>\n",
       "      <th>x</th>\n",
       "      <th>y</th>\n",
       "      <th>w</th>\n",
       "      <th>h</th>\n",
       "      <th>confidence</th>\n",
       "    </tr>\n",
       "  </thead>\n",
       "  <tbody>\n",
       "    <tr>\n",
       "      <td>0</td>\n",
       "      <td>image_00000.jpg</td>\n",
       "      <td>1</td>\n",
       "      <td>1682</td>\n",
       "      <td>3297</td>\n",
       "      <td>755</td>\n",
       "      <td>188</td>\n",
       "      <td>0.876293</td>\n",
       "    </tr>\n",
       "    <tr>\n",
       "      <td>1</td>\n",
       "      <td>image_00000.jpg</td>\n",
       "      <td>1</td>\n",
       "      <td>2448</td>\n",
       "      <td>3314</td>\n",
       "      <td>806</td>\n",
       "      <td>169</td>\n",
       "      <td>0.796912</td>\n",
       "    </tr>\n",
       "    <tr>\n",
       "      <td>2</td>\n",
       "      <td>image_00000.jpg</td>\n",
       "      <td>1</td>\n",
       "      <td>733</td>\n",
       "      <td>2605</td>\n",
       "      <td>125</td>\n",
       "      <td>151</td>\n",
       "      <td>0.788651</td>\n",
       "    </tr>\n",
       "    <tr>\n",
       "      <td>3</td>\n",
       "      <td>image_00000.jpg</td>\n",
       "      <td>1</td>\n",
       "      <td>705</td>\n",
       "      <td>2480</td>\n",
       "      <td>193</td>\n",
       "      <td>273</td>\n",
       "      <td>0.779468</td>\n",
       "    </tr>\n",
       "    <tr>\n",
       "      <td>4</td>\n",
       "      <td>image_00000.jpg</td>\n",
       "      <td>1</td>\n",
       "      <td>3153</td>\n",
       "      <td>225</td>\n",
       "      <td>1124</td>\n",
       "      <td>248</td>\n",
       "      <td>0.719317</td>\n",
       "    </tr>\n",
       "    <tr>\n",
       "      <td>...</td>\n",
       "      <td>...</td>\n",
       "      <td>...</td>\n",
       "      <td>...</td>\n",
       "      <td>...</td>\n",
       "      <td>...</td>\n",
       "      <td>...</td>\n",
       "      <td>...</td>\n",
       "    </tr>\n",
       "    <tr>\n",
       "      <td>23281</td>\n",
       "      <td>image_00055.jpg</td>\n",
       "      <td>1</td>\n",
       "      <td>1700</td>\n",
       "      <td>127</td>\n",
       "      <td>12</td>\n",
       "      <td>11</td>\n",
       "      <td>0.002567</td>\n",
       "    </tr>\n",
       "    <tr>\n",
       "      <td>23282</td>\n",
       "      <td>image_00055.jpg</td>\n",
       "      <td>4</td>\n",
       "      <td>1494</td>\n",
       "      <td>1465</td>\n",
       "      <td>8</td>\n",
       "      <td>8</td>\n",
       "      <td>0.002535</td>\n",
       "    </tr>\n",
       "    <tr>\n",
       "      <td>23283</td>\n",
       "      <td>image_00055.jpg</td>\n",
       "      <td>4</td>\n",
       "      <td>2595</td>\n",
       "      <td>130</td>\n",
       "      <td>45</td>\n",
       "      <td>42</td>\n",
       "      <td>0.002531</td>\n",
       "    </tr>\n",
       "    <tr>\n",
       "      <td>23284</td>\n",
       "      <td>image_00055.jpg</td>\n",
       "      <td>4</td>\n",
       "      <td>2158</td>\n",
       "      <td>1523</td>\n",
       "      <td>22</td>\n",
       "      <td>26</td>\n",
       "      <td>0.002526</td>\n",
       "    </tr>\n",
       "    <tr>\n",
       "      <td>23285</td>\n",
       "      <td>image_00055.jpg</td>\n",
       "      <td>4</td>\n",
       "      <td>3648</td>\n",
       "      <td>1493</td>\n",
       "      <td>12</td>\n",
       "      <td>11</td>\n",
       "      <td>0.002520</td>\n",
       "    </tr>\n",
       "  </tbody>\n",
       "</table>\n",
       "<p>23286 rows × 7 columns</p>\n",
       "</div>"
      ],
      "text/plain": [
       "        image_filename  label_id     x     y     w    h  confidence\n",
       "0      image_00000.jpg         1  1682  3297   755  188    0.876293\n",
       "1      image_00000.jpg         1  2448  3314   806  169    0.796912\n",
       "2      image_00000.jpg         1   733  2605   125  151    0.788651\n",
       "3      image_00000.jpg         1   705  2480   193  273    0.779468\n",
       "4      image_00000.jpg         1  3153   225  1124  248    0.719317\n",
       "...                ...       ...   ...   ...   ...  ...         ...\n",
       "23281  image_00055.jpg         1  1700   127    12   11    0.002567\n",
       "23282  image_00055.jpg         4  1494  1465     8    8    0.002535\n",
       "23283  image_00055.jpg         4  2595   130    45   42    0.002531\n",
       "23284  image_00055.jpg         4  2158  1523    22   26    0.002526\n",
       "23285  image_00055.jpg         4  3648  1493    12   11    0.002520\n",
       "\n",
       "[23286 rows x 7 columns]"
      ]
     },
     "execution_count": 4,
     "metadata": {},
     "output_type": "execute_result"
    }
   ],
   "source": [
    "submit= pd.DataFrame()\n",
    "\n",
    "keep_classes= [1,2,3,4]\n",
    "for pred in result:\n",
    "    name= pred['image_path'].split('/')[-1]\n",
    "    bbox= pred['bbox']\n",
    "    label= pred['label'].astype(np.int)\n",
    "    score= pred['score']\n",
    "    for i in range(len(bbox)):\n",
    "        if label[i] not in keep_classes: continue\n",
    "        r= []\n",
    "        bbox[i][2]-= bbox[i][0]\n",
    "        bbox[i][3]-= bbox[i][1]\n",
    "        r+= [name]\n",
    "        r+= [label[i]]\n",
    "        r+= bbox[i].astype(np.int).tolist()\n",
    "        r+= [score[i]]\n",
    "        submit= submit.append([r], ignore_index= True)\n",
    "\n",
    "\n",
    "submit.columns= ['image_filename', \n",
    "              'label_id',\n",
    "              'x',\n",
    "              'y',\n",
    "              'w',\n",
    "              'h',\n",
    "              'confidence']\n",
    "submit.to_csv('submission.csv', index= False)\n",
    "submit"
   ]
  }
 ],
 "metadata": {
  "kernelspec": {
   "display_name": "Python 3",
   "language": "python",
   "name": "python3"
  },
  "language_info": {
   "codemirror_mode": {
    "name": "ipython",
    "version": 3
   },
   "file_extension": ".py",
   "mimetype": "text/x-python",
   "name": "python",
   "nbconvert_exporter": "python",
   "pygments_lexer": "ipython3",
   "version": "3.7.4"
  }
 },
 "nbformat": 4,
 "nbformat_minor": 5
}
